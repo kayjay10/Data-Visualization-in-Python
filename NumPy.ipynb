{
 "cells": [
  {
   "cell_type": "markdown",
   "id": "77600506",
   "metadata": {},
   "source": [
    "## NumPy"
   ]
  },
  {
   "cell_type": "code",
   "execution_count": 1,
   "id": "a65bbae5",
   "metadata": {},
   "outputs": [],
   "source": [
    "import numpy as np"
   ]
  },
  {
   "cell_type": "markdown",
   "id": "5babc6c3",
   "metadata": {},
   "source": [
    "### np.array"
   ]
  },
  {
   "cell_type": "code",
   "execution_count": 2,
   "id": "f60a300b",
   "metadata": {},
   "outputs": [],
   "source": [
    "l = [1, 2, 3, 4, 5]"
   ]
  },
  {
   "cell_type": "code",
   "execution_count": 4,
   "id": "9f92284e",
   "metadata": {},
   "outputs": [],
   "source": [
    "npa = np.array(l)"
   ]
  },
  {
   "cell_type": "code",
   "execution_count": 5,
   "id": "6186d55d",
   "metadata": {},
   "outputs": [
    {
     "data": {
      "text/plain": [
       "(list, numpy.ndarray)"
      ]
     },
     "execution_count": 5,
     "metadata": {},
     "output_type": "execute_result"
    }
   ],
   "source": [
    "type(l), type(npa)"
   ]
  },
  {
   "cell_type": "code",
   "execution_count": 6,
   "id": "a60e9f7d",
   "metadata": {},
   "outputs": [
    {
     "data": {
      "text/plain": [
       "(5,)"
      ]
     },
     "execution_count": 6,
     "metadata": {},
     "output_type": "execute_result"
    }
   ],
   "source": [
    "npa.shape"
   ]
  },
  {
   "cell_type": "code",
   "execution_count": 10,
   "id": "3e15ffb9",
   "metadata": {},
   "outputs": [
    {
     "data": {
      "text/plain": [
       "[1, 2, 3, 4, 5, 6, 'string']"
      ]
     },
     "execution_count": 10,
     "metadata": {},
     "output_type": "execute_result"
    }
   ],
   "source": [
    "l.append('string')\n",
    "l"
   ]
  },
  {
   "cell_type": "code",
   "execution_count": 11,
   "id": "5b6e8de3",
   "metadata": {},
   "outputs": [],
   "source": [
    "npa = np.array(l)"
   ]
  },
  {
   "cell_type": "code",
   "execution_count": 12,
   "id": "91f0b4ea",
   "metadata": {},
   "outputs": [
    {
     "data": {
      "text/plain": [
       "array(['1', '2', '3', '4', '5', '6', 'string'], dtype='<U11')"
      ]
     },
     "execution_count": 12,
     "metadata": {},
     "output_type": "execute_result"
    }
   ],
   "source": [
    "npa"
   ]
  },
  {
   "cell_type": "code",
   "execution_count": null,
   "id": "32866580",
   "metadata": {},
   "outputs": [],
   "source": []
  },
  {
   "cell_type": "code",
   "execution_count": 13,
   "id": "6dc0d489",
   "metadata": {},
   "outputs": [],
   "source": [
    "l1 = [1, 4, 9, 16]"
   ]
  },
  {
   "cell_type": "code",
   "execution_count": 14,
   "id": "d102dad0",
   "metadata": {},
   "outputs": [
    {
     "data": {
      "text/plain": [
       "[1, 2, 3, 4, 5, 6, 'string']"
      ]
     },
     "execution_count": 14,
     "metadata": {},
     "output_type": "execute_result"
    }
   ],
   "source": [
    "l"
   ]
  },
  {
   "cell_type": "code",
   "execution_count": 15,
   "id": "c7cc3a18",
   "metadata": {},
   "outputs": [
    {
     "data": {
      "text/plain": [
       "[1, 2, 3, 4, 5, 6, 'string', 1, 4, 9, 16]"
      ]
     },
     "execution_count": 15,
     "metadata": {},
     "output_type": "execute_result"
    }
   ],
   "source": [
    "l + l1"
   ]
  },
  {
   "cell_type": "code",
   "execution_count": 16,
   "id": "009d1cf9",
   "metadata": {},
   "outputs": [
    {
     "data": {
      "text/plain": [
       "array(['1', '2', '3', '4', '5', '6', 'string', '1', '4', '9', '16'],\n",
       "      dtype='<U11')"
      ]
     },
     "execution_count": 16,
     "metadata": {},
     "output_type": "execute_result"
    }
   ],
   "source": [
    "np.array(l + l1)"
   ]
  },
  {
   "cell_type": "code",
   "execution_count": 17,
   "id": "a504f5d9",
   "metadata": {},
   "outputs": [
    {
     "data": {
      "text/plain": [
       "[1, 2, 3, 4, 5, 6, 'string', 20]"
      ]
     },
     "execution_count": 17,
     "metadata": {},
     "output_type": "execute_result"
    }
   ],
   "source": [
    "l + [20]"
   ]
  },
  {
   "cell_type": "code",
   "execution_count": null,
   "id": "479a6679",
   "metadata": {},
   "outputs": [],
   "source": []
  },
  {
   "cell_type": "code",
   "execution_count": 19,
   "id": "558bc9a3",
   "metadata": {},
   "outputs": [
    {
     "data": {
      "text/plain": [
       "([[1, 2], [3, 4], [3, 4]], list)"
      ]
     },
     "execution_count": 19,
     "metadata": {},
     "output_type": "execute_result"
    }
   ],
   "source": [
    "l = [[1, 2], [3, 4], [3, 4]]\n",
    "l, type(l)"
   ]
  },
  {
   "cell_type": "code",
   "execution_count": 20,
   "id": "78c43680",
   "metadata": {},
   "outputs": [],
   "source": [
    "npa2d = np.array(l)"
   ]
  },
  {
   "cell_type": "code",
   "execution_count": 22,
   "id": "e4585166",
   "metadata": {},
   "outputs": [
    {
     "data": {
      "text/plain": [
       "(array([[1, 2],\n",
       "        [3, 4],\n",
       "        [3, 4]]),\n",
       " numpy.ndarray)"
      ]
     },
     "execution_count": 22,
     "metadata": {},
     "output_type": "execute_result"
    }
   ],
   "source": [
    "npa2d, type(npa2d)"
   ]
  },
  {
   "cell_type": "code",
   "execution_count": 23,
   "id": "cf1febb2",
   "metadata": {},
   "outputs": [
    {
     "data": {
      "text/plain": [
       "(3, 2)"
      ]
     },
     "execution_count": 23,
     "metadata": {},
     "output_type": "execute_result"
    }
   ],
   "source": [
    "npa2d.shape"
   ]
  },
  {
   "cell_type": "code",
   "execution_count": 24,
   "id": "00c8943f",
   "metadata": {},
   "outputs": [],
   "source": [
    "npa2d = np.array(l, dtype = 'float')"
   ]
  },
  {
   "cell_type": "code",
   "execution_count": 25,
   "id": "c61008e6",
   "metadata": {},
   "outputs": [
    {
     "data": {
      "text/plain": [
       "array([[1., 2.],\n",
       "       [3., 4.],\n",
       "       [3., 4.]])"
      ]
     },
     "execution_count": 25,
     "metadata": {},
     "output_type": "execute_result"
    }
   ],
   "source": [
    "npa2d"
   ]
  },
  {
   "cell_type": "code",
   "execution_count": 27,
   "id": "78c08ed2",
   "metadata": {},
   "outputs": [
    {
     "data": {
      "text/plain": [
       "numpy.ndarray"
      ]
     },
     "execution_count": 27,
     "metadata": {},
     "output_type": "execute_result"
    }
   ],
   "source": [
    "type(npa2d)"
   ]
  },
  {
   "cell_type": "code",
   "execution_count": 28,
   "id": "3d1d8d90",
   "metadata": {},
   "outputs": [],
   "source": [
    "npa2d = np.array(l, dtype = 'int')"
   ]
  },
  {
   "cell_type": "code",
   "execution_count": 29,
   "id": "7141953e",
   "metadata": {},
   "outputs": [
    {
     "data": {
      "text/plain": [
       "array([[1, 2],\n",
       "       [3, 4],\n",
       "       [3, 4]])"
      ]
     },
     "execution_count": 29,
     "metadata": {},
     "output_type": "execute_result"
    }
   ],
   "source": [
    "npa2d"
   ]
  },
  {
   "cell_type": "code",
   "execution_count": 31,
   "id": "eb840671",
   "metadata": {},
   "outputs": [],
   "source": [
    "npa2d = npa2d.astype('str')"
   ]
  },
  {
   "cell_type": "code",
   "execution_count": 32,
   "id": "b91dbc92",
   "metadata": {},
   "outputs": [
    {
     "data": {
      "text/plain": [
       "'1'"
      ]
     },
     "execution_count": 32,
     "metadata": {},
     "output_type": "execute_result"
    }
   ],
   "source": [
    "npa2d[0][0]"
   ]
  },
  {
   "cell_type": "code",
   "execution_count": 33,
   "id": "7af57877",
   "metadata": {},
   "outputs": [
    {
     "data": {
      "text/plain": [
       "'11'"
      ]
     },
     "execution_count": 33,
     "metadata": {},
     "output_type": "execute_result"
    }
   ],
   "source": [
    "npa2d[0][0] + str(1)"
   ]
  },
  {
   "cell_type": "code",
   "execution_count": null,
   "id": "1f45c5c7",
   "metadata": {},
   "outputs": [],
   "source": []
  },
  {
   "cell_type": "markdown",
   "id": "ffc18d36",
   "metadata": {},
   "source": [
    "## np.nan and np.inf"
   ]
  },
  {
   "cell_type": "code",
   "execution_count": 34,
   "id": "7e840d30",
   "metadata": {},
   "outputs": [
    {
     "data": {
      "text/plain": [
       "nan"
      ]
     },
     "execution_count": 34,
     "metadata": {},
     "output_type": "execute_result"
    }
   ],
   "source": [
    "np.nan"
   ]
  },
  {
   "cell_type": "code",
   "execution_count": 35,
   "id": "3224bba9",
   "metadata": {},
   "outputs": [
    {
     "data": {
      "text/plain": [
       "False"
      ]
     },
     "execution_count": 35,
     "metadata": {},
     "output_type": "execute_result"
    }
   ],
   "source": [
    "np.nan == np.nan"
   ]
  },
  {
   "cell_type": "code",
   "execution_count": 37,
   "id": "813bf3aa",
   "metadata": {},
   "outputs": [
    {
     "data": {
      "text/plain": [
       "True"
      ]
     },
     "execution_count": 37,
     "metadata": {},
     "output_type": "execute_result"
    }
   ],
   "source": [
    "None == None"
   ]
  },
  {
   "cell_type": "code",
   "execution_count": 38,
   "id": "f6b03e36",
   "metadata": {},
   "outputs": [
    {
     "data": {
      "text/plain": [
       "True"
      ]
     },
     "execution_count": 38,
     "metadata": {},
     "output_type": "execute_result"
    }
   ],
   "source": [
    "np.inf == np.inf"
   ]
  },
  {
   "cell_type": "code",
   "execution_count": 40,
   "id": "8a5db22f",
   "metadata": {},
   "outputs": [],
   "source": [
    "npa2d = npa2d.astype('int')"
   ]
  },
  {
   "cell_type": "code",
   "execution_count": 41,
   "id": "279e1be7",
   "metadata": {},
   "outputs": [
    {
     "data": {
      "text/plain": [
       "array([[1, 2],\n",
       "       [3, 4],\n",
       "       [3, 4]])"
      ]
     },
     "execution_count": 41,
     "metadata": {},
     "output_type": "execute_result"
    }
   ],
   "source": [
    "npa2d"
   ]
  },
  {
   "cell_type": "code",
   "execution_count": 43,
   "id": "92dd6b64",
   "metadata": {},
   "outputs": [
    {
     "data": {
      "text/plain": [
       "array([[1., 2.],\n",
       "       [3., 4.],\n",
       "       [3., 4.]])"
      ]
     },
     "execution_count": 43,
     "metadata": {},
     "output_type": "execute_result"
    }
   ],
   "source": [
    "npa2d = npa2d.astype('float')\n",
    "npa2d"
   ]
  },
  {
   "cell_type": "code",
   "execution_count": 44,
   "id": "74a944fc",
   "metadata": {},
   "outputs": [
    {
     "data": {
      "text/plain": [
       "array([['1.0', '2.0'],\n",
       "       ['3.0', '4.0'],\n",
       "       ['3.0', '4.0']], dtype='<U32')"
      ]
     },
     "execution_count": 44,
     "metadata": {},
     "output_type": "execute_result"
    }
   ],
   "source": [
    "npa2d = npa2d.astype('str')\n",
    "npa2d"
   ]
  },
  {
   "cell_type": "code",
   "execution_count": 46,
   "id": "a1486c14",
   "metadata": {},
   "outputs": [
    {
     "data": {
      "text/plain": [
       "array([[1., 2.],\n",
       "       [3., 4.],\n",
       "       [3., 4.]])"
      ]
     },
     "execution_count": 46,
     "metadata": {},
     "output_type": "execute_result"
    }
   ],
   "source": [
    "npa2d = npa2d.astype('float')\n",
    "npa2d"
   ]
  },
  {
   "cell_type": "code",
   "execution_count": 47,
   "id": "666e7b6b",
   "metadata": {},
   "outputs": [
    {
     "data": {
      "text/plain": [
       "array([[1, 2],\n",
       "       [3, 4],\n",
       "       [3, 4]])"
      ]
     },
     "execution_count": 47,
     "metadata": {},
     "output_type": "execute_result"
    }
   ],
   "source": [
    "npa2d = npa2d.astype('int')\n",
    "npa2d"
   ]
  },
  {
   "cell_type": "code",
   "execution_count": 51,
   "id": "6dcd6a6c",
   "metadata": {},
   "outputs": [
    {
     "data": {
      "text/plain": [
       "array([[1., 2.],\n",
       "       [3., 4.],\n",
       "       [3., 4.]])"
      ]
     },
     "execution_count": 51,
     "metadata": {},
     "output_type": "execute_result"
    }
   ],
   "source": [
    "npa2d = npa2d.astype('float')\n",
    "npa2d"
   ]
  },
  {
   "cell_type": "code",
   "execution_count": 52,
   "id": "47fbd477",
   "metadata": {},
   "outputs": [],
   "source": [
    "npa2d[0][0] = np.nan\n",
    "npa2d[1][1] = np.inf"
   ]
  },
  {
   "cell_type": "code",
   "execution_count": 53,
   "id": "9d7ef400",
   "metadata": {},
   "outputs": [
    {
     "data": {
      "text/plain": [
       "array([[nan,  2.],\n",
       "       [ 3., inf],\n",
       "       [ 3.,  4.]])"
      ]
     },
     "execution_count": 53,
     "metadata": {},
     "output_type": "execute_result"
    }
   ],
   "source": [
    "npa2d"
   ]
  },
  {
   "cell_type": "code",
   "execution_count": 54,
   "id": "739b1fb1",
   "metadata": {},
   "outputs": [
    {
     "data": {
      "text/plain": [
       "array([[ True, False],\n",
       "       [False, False],\n",
       "       [False, False]])"
      ]
     },
     "execution_count": 54,
     "metadata": {},
     "output_type": "execute_result"
    }
   ],
   "source": [
    "np.isnan(npa2d)"
   ]
  },
  {
   "cell_type": "code",
   "execution_count": 55,
   "id": "138586f3",
   "metadata": {},
   "outputs": [
    {
     "data": {
      "text/plain": [
       "array([[False, False],\n",
       "       [False,  True],\n",
       "       [False, False]])"
      ]
     },
     "execution_count": 55,
     "metadata": {},
     "output_type": "execute_result"
    }
   ],
   "source": [
    "np.isinf(npa2d)"
   ]
  },
  {
   "cell_type": "code",
   "execution_count": 57,
   "id": "9d6b0bc5",
   "metadata": {},
   "outputs": [],
   "source": [
    "flag = np.isnan(npa2d) | np.isinf(npa2d)"
   ]
  },
  {
   "cell_type": "code",
   "execution_count": 58,
   "id": "5e3f8ab6",
   "metadata": {},
   "outputs": [
    {
     "data": {
      "text/plain": [
       "array([[ True, False],\n",
       "       [False,  True],\n",
       "       [False, False]])"
      ]
     },
     "execution_count": 58,
     "metadata": {},
     "output_type": "execute_result"
    }
   ],
   "source": [
    "flag"
   ]
  },
  {
   "cell_type": "code",
   "execution_count": 59,
   "id": "86420ac0",
   "metadata": {},
   "outputs": [
    {
     "data": {
      "text/plain": [
       "array([nan, inf])"
      ]
     },
     "execution_count": 59,
     "metadata": {},
     "output_type": "execute_result"
    }
   ],
   "source": [
    "npa2d[flag]"
   ]
  },
  {
   "cell_type": "code",
   "execution_count": 60,
   "id": "78072305",
   "metadata": {},
   "outputs": [],
   "source": [
    "npa2d[flag] = 0"
   ]
  },
  {
   "cell_type": "code",
   "execution_count": 61,
   "id": "d4e7c57a",
   "metadata": {
    "scrolled": true
   },
   "outputs": [
    {
     "data": {
      "text/plain": [
       "array([[0., 2.],\n",
       "       [3., 0.],\n",
       "       [3., 4.]])"
      ]
     },
     "execution_count": 61,
     "metadata": {},
     "output_type": "execute_result"
    }
   ],
   "source": [
    "npa2d"
   ]
  },
  {
   "cell_type": "code",
   "execution_count": null,
   "id": "f728ae44",
   "metadata": {},
   "outputs": [],
   "source": []
  },
  {
   "cell_type": "markdown",
   "id": "7eff14be",
   "metadata": {},
   "source": [
    "## Statistical Operations"
   ]
  },
  {
   "cell_type": "code",
   "execution_count": 62,
   "id": "45711b8b",
   "metadata": {},
   "outputs": [],
   "source": [
    "# mean, var, std, med"
   ]
  },
  {
   "cell_type": "code",
   "execution_count": 63,
   "id": "f7e306d9",
   "metadata": {},
   "outputs": [
    {
     "data": {
      "text/plain": [
       "array([[0., 2.],\n",
       "       [3., 0.],\n",
       "       [3., 4.]])"
      ]
     },
     "execution_count": 63,
     "metadata": {},
     "output_type": "execute_result"
    }
   ],
   "source": [
    "npa2d"
   ]
  },
  {
   "cell_type": "code",
   "execution_count": 65,
   "id": "e7b84a9d",
   "metadata": {},
   "outputs": [
    {
     "data": {
      "text/plain": [
       "2.0"
      ]
     },
     "execution_count": 65,
     "metadata": {},
     "output_type": "execute_result"
    }
   ],
   "source": [
    "npa2d.mean()"
   ]
  },
  {
   "cell_type": "code",
   "execution_count": 66,
   "id": "a38ed7e2",
   "metadata": {},
   "outputs": [
    {
     "data": {
      "text/plain": [
       "0.0"
      ]
     },
     "execution_count": 66,
     "metadata": {},
     "output_type": "execute_result"
    }
   ],
   "source": [
    "npa2d.min()"
   ]
  },
  {
   "cell_type": "code",
   "execution_count": 67,
   "id": "6f532a4a",
   "metadata": {},
   "outputs": [
    {
     "data": {
      "text/plain": [
       "4.0"
      ]
     },
     "execution_count": 67,
     "metadata": {},
     "output_type": "execute_result"
    }
   ],
   "source": [
    "npa2d.max()"
   ]
  },
  {
   "cell_type": "code",
   "execution_count": 68,
   "id": "43f69c0c",
   "metadata": {},
   "outputs": [
    {
     "data": {
      "text/plain": [
       "2.3333333333333335"
      ]
     },
     "execution_count": 68,
     "metadata": {},
     "output_type": "execute_result"
    }
   ],
   "source": [
    "npa2d.var()"
   ]
  },
  {
   "cell_type": "code",
   "execution_count": 69,
   "id": "02fdc173",
   "metadata": {},
   "outputs": [
    {
     "data": {
      "text/plain": [
       "1.5275252316519468"
      ]
     },
     "execution_count": 69,
     "metadata": {},
     "output_type": "execute_result"
    }
   ],
   "source": [
    "npa2d.std()"
   ]
  },
  {
   "cell_type": "code",
   "execution_count": 71,
   "id": "a9ebb901",
   "metadata": {},
   "outputs": [
    {
     "data": {
      "text/plain": [
       "2.5"
      ]
     },
     "execution_count": 71,
     "metadata": {},
     "output_type": "execute_result"
    }
   ],
   "source": [
    "np.median(npa2d)"
   ]
  },
  {
   "cell_type": "code",
   "execution_count": null,
   "id": "9261740e",
   "metadata": {},
   "outputs": [],
   "source": []
  },
  {
   "cell_type": "markdown",
   "id": "c6706378",
   "metadata": {},
   "source": [
    "## Shape(), Reshape(), Ravel()"
   ]
  },
  {
   "cell_type": "code",
   "execution_count": 72,
   "id": "ac763a27",
   "metadata": {},
   "outputs": [
    {
     "data": {
      "text/plain": [
       "array([[0., 2.],\n",
       "       [3., 0.],\n",
       "       [3., 4.]])"
      ]
     },
     "execution_count": 72,
     "metadata": {},
     "output_type": "execute_result"
    }
   ],
   "source": [
    "npa2d"
   ]
  },
  {
   "cell_type": "code",
   "execution_count": 73,
   "id": "5276fc98",
   "metadata": {},
   "outputs": [
    {
     "data": {
      "text/plain": [
       "(3, 2)"
      ]
     },
     "execution_count": 73,
     "metadata": {},
     "output_type": "execute_result"
    }
   ],
   "source": [
    "npa2d.shape"
   ]
  },
  {
   "cell_type": "code",
   "execution_count": 78,
   "id": "3b9a4607",
   "metadata": {},
   "outputs": [
    {
     "data": {
      "text/plain": [
       "array([[0., 2., 3.],\n",
       "       [0., 3., 4.]])"
      ]
     },
     "execution_count": 78,
     "metadata": {},
     "output_type": "execute_result"
    }
   ],
   "source": [
    "npa2d.reshape(2, 3)"
   ]
  },
  {
   "cell_type": "code",
   "execution_count": 80,
   "id": "08f56608",
   "metadata": {},
   "outputs": [
    {
     "data": {
      "text/plain": [
       "array([0., 2., 3., 0., 3., 4.])"
      ]
     },
     "execution_count": 80,
     "metadata": {},
     "output_type": "execute_result"
    }
   ],
   "source": [
    "npa2d.reshape(2, 3).ravel()"
   ]
  },
  {
   "cell_type": "code",
   "execution_count": 82,
   "id": "b05baac3",
   "metadata": {},
   "outputs": [
    {
     "data": {
      "text/plain": [
       "array([0., 2., 3., 0., 3., 4.])"
      ]
     },
     "execution_count": 82,
     "metadata": {},
     "output_type": "execute_result"
    }
   ],
   "source": [
    "npa2d.ravel()"
   ]
  },
  {
   "cell_type": "code",
   "execution_count": 83,
   "id": "6297edc2",
   "metadata": {},
   "outputs": [
    {
     "data": {
      "text/plain": [
       "array([0., 2., 3., 0., 3., 4.])"
      ]
     },
     "execution_count": 83,
     "metadata": {},
     "output_type": "execute_result"
    }
   ],
   "source": [
    "npa2d.flatten()"
   ]
  },
  {
   "cell_type": "code",
   "execution_count": null,
   "id": "f0596bdc",
   "metadata": {},
   "outputs": [],
   "source": []
  },
  {
   "cell_type": "markdown",
   "id": "2fc9e11e",
   "metadata": {},
   "source": [
    "## sequence, repetitions, and random numbers"
   ]
  },
  {
   "cell_type": "markdown",
   "id": "2414ba88",
   "metadata": {},
   "source": [
    "### arange(), linspace(), random(), zeros(), and ones()"
   ]
  },
  {
   "cell_type": "code",
   "execution_count": 84,
   "id": "e3d64e84",
   "metadata": {},
   "outputs": [
    {
     "data": {
      "text/plain": [
       "array([1, 2, 3, 4])"
      ]
     },
     "execution_count": 84,
     "metadata": {},
     "output_type": "execute_result"
    }
   ],
   "source": [
    "np.arange(1, 5)"
   ]
  },
  {
   "cell_type": "code",
   "execution_count": 85,
   "id": "cc2fc2ad",
   "metadata": {},
   "outputs": [
    {
     "data": {
      "text/plain": [
       "array([1., 2., 3., 4.])"
      ]
     },
     "execution_count": 85,
     "metadata": {},
     "output_type": "execute_result"
    }
   ],
   "source": [
    "np.arange(1, 5, dtype = 'float')"
   ]
  },
  {
   "cell_type": "code",
   "execution_count": 87,
   "id": "5e7b9bbf",
   "metadata": {},
   "outputs": [
    {
     "data": {
      "text/plain": [
       "array([ 1,  4,  7, 10, 13, 16, 19])"
      ]
     },
     "execution_count": 87,
     "metadata": {},
     "output_type": "execute_result"
    }
   ],
   "source": [
    "np.arange(1, 20, 3)"
   ]
  },
  {
   "cell_type": "code",
   "execution_count": null,
   "id": "495cb55b",
   "metadata": {},
   "outputs": [],
   "source": []
  },
  {
   "cell_type": "code",
   "execution_count": 92,
   "id": "9558e287",
   "metadata": {},
   "outputs": [
    {
     "data": {
      "text/plain": [
       "array([ 1. ,  4.8,  8.6, 12.4, 16.2, 20. ])"
      ]
     },
     "execution_count": 92,
     "metadata": {},
     "output_type": "execute_result"
    }
   ],
   "source": [
    "np.linspace(1, 20, 6)"
   ]
  },
  {
   "cell_type": "code",
   "execution_count": null,
   "id": "25f63930",
   "metadata": {},
   "outputs": [],
   "source": []
  },
  {
   "cell_type": "code",
   "execution_count": 93,
   "id": "cf7a9fa6",
   "metadata": {},
   "outputs": [
    {
     "data": {
      "text/plain": [
       "array([1.00000000e+01, 6.30957344e+04, 3.98107171e+08, 2.51188643e+12,\n",
       "       1.58489319e+16, 1.00000000e+20])"
      ]
     },
     "execution_count": 93,
     "metadata": {},
     "output_type": "execute_result"
    }
   ],
   "source": [
    "np.logspace(1, 20, 6)"
   ]
  },
  {
   "cell_type": "code",
   "execution_count": null,
   "id": "d9328cb6",
   "metadata": {},
   "outputs": [],
   "source": []
  },
  {
   "cell_type": "code",
   "execution_count": 99,
   "id": "781690cd",
   "metadata": {},
   "outputs": [
    {
     "data": {
      "text/plain": [
       "array([[0., 0., 0., 0., 0.]])"
      ]
     },
     "execution_count": 99,
     "metadata": {},
     "output_type": "execute_result"
    }
   ],
   "source": [
    "np.zeros([1,5])"
   ]
  },
  {
   "cell_type": "code",
   "execution_count": 101,
   "id": "53afdcb9",
   "metadata": {},
   "outputs": [
    {
     "data": {
      "text/plain": [
       "array([[[0., 0., 0.],\n",
       "        [0., 0., 0.]]])"
      ]
     },
     "execution_count": 101,
     "metadata": {},
     "output_type": "execute_result"
    }
   ],
   "source": [
    "np.zeros([1, 2, 3])"
   ]
  },
  {
   "cell_type": "code",
   "execution_count": null,
   "id": "68da7f0b",
   "metadata": {},
   "outputs": [],
   "source": []
  },
  {
   "cell_type": "code",
   "execution_count": 103,
   "id": "37cc1bef",
   "metadata": {},
   "outputs": [
    {
     "data": {
      "text/plain": [
       "array([[1., 1.]])"
      ]
     },
     "execution_count": 103,
     "metadata": {},
     "output_type": "execute_result"
    }
   ],
   "source": [
    "np.ones([1, 2])"
   ]
  },
  {
   "cell_type": "code",
   "execution_count": null,
   "id": "b65bdfce",
   "metadata": {},
   "outputs": [],
   "source": []
  },
  {
   "cell_type": "code",
   "execution_count": 107,
   "id": "8a929b51",
   "metadata": {},
   "outputs": [
    {
     "data": {
      "text/plain": [
       "array([1, 2, 1, 2, 1, 2])"
      ]
     },
     "execution_count": 107,
     "metadata": {},
     "output_type": "execute_result"
    }
   ],
   "source": [
    "np.tile([1, 2], 3)"
   ]
  },
  {
   "cell_type": "code",
   "execution_count": null,
   "id": "4c9a55ca",
   "metadata": {},
   "outputs": [],
   "source": []
  },
  {
   "cell_type": "code",
   "execution_count": 110,
   "id": "bb80da77",
   "metadata": {},
   "outputs": [
    {
     "data": {
      "text/plain": [
       "array([1, 1, 1, 2, 2, 2])"
      ]
     },
     "execution_count": 110,
     "metadata": {},
     "output_type": "execute_result"
    }
   ],
   "source": [
    "np.repeat([1, 2], 3)"
   ]
  },
  {
   "cell_type": "code",
   "execution_count": null,
   "id": "2c3db90a",
   "metadata": {},
   "outputs": [],
   "source": []
  },
  {
   "cell_type": "code",
   "execution_count": 112,
   "id": "e8fd5c22",
   "metadata": {},
   "outputs": [
    {
     "data": {
      "text/plain": [
       "array([[0.00877059, 0.33168115, 0.31817576],\n",
       "       [0.12034717, 0.71519728, 0.37126276],\n",
       "       [0.56240372, 0.8303584 , 0.16396384]])"
      ]
     },
     "execution_count": 112,
     "metadata": {},
     "output_type": "execute_result"
    }
   ],
   "source": [
    "np.random.rand(3, 3)"
   ]
  },
  {
   "cell_type": "code",
   "execution_count": null,
   "id": "e4184f7a",
   "metadata": {},
   "outputs": [],
   "source": []
  },
  {
   "cell_type": "code",
   "execution_count": 117,
   "id": "a57c2056",
   "metadata": {},
   "outputs": [
    {
     "data": {
      "text/plain": [
       "array([[19, 52,  5],\n",
       "       [67, 95, 63],\n",
       "       [23, 10, 97]])"
      ]
     },
     "execution_count": 117,
     "metadata": {},
     "output_type": "execute_result"
    }
   ],
   "source": [
    "np.random.randint(0, 100, [3, 3])"
   ]
  },
  {
   "cell_type": "code",
   "execution_count": null,
   "id": "3d425d7e",
   "metadata": {},
   "outputs": [],
   "source": []
  },
  {
   "cell_type": "code",
   "execution_count": 120,
   "id": "ebfb9551",
   "metadata": {},
   "outputs": [
    {
     "data": {
      "text/plain": [
       "array([[37, 12, 72],\n",
       "       [ 9, 75,  5],\n",
       "       [79, 64, 16]])"
      ]
     },
     "execution_count": 120,
     "metadata": {},
     "output_type": "execute_result"
    }
   ],
   "source": [
    "np.random.seed(1)\n",
    "np.random.randint(0, 100, [3, 3])"
   ]
  },
  {
   "cell_type": "code",
   "execution_count": null,
   "id": "c8fe1567",
   "metadata": {},
   "outputs": [],
   "source": []
  },
  {
   "cell_type": "code",
   "execution_count": 123,
   "id": "1c423ded",
   "metadata": {},
   "outputs": [
    {
     "data": {
      "text/plain": [
       "array([0., 2., 3., 4.])"
      ]
     },
     "execution_count": 123,
     "metadata": {},
     "output_type": "execute_result"
    }
   ],
   "source": [
    "np.unique(npa2d)"
   ]
  },
  {
   "cell_type": "code",
   "execution_count": 124,
   "id": "c9be67e9",
   "metadata": {},
   "outputs": [
    {
     "data": {
      "text/plain": [
       "array([[0., 2.],\n",
       "       [3., 0.],\n",
       "       [3., 4.]])"
      ]
     },
     "execution_count": 124,
     "metadata": {},
     "output_type": "execute_result"
    }
   ],
   "source": [
    "npa2d"
   ]
  },
  {
   "cell_type": "code",
   "execution_count": 125,
   "id": "1f31c3b1",
   "metadata": {},
   "outputs": [
    {
     "data": {
      "text/plain": [
       "(array([0., 2., 3., 4.]), array([2, 1, 2, 1], dtype=int64))"
      ]
     },
     "execution_count": 125,
     "metadata": {},
     "output_type": "execute_result"
    }
   ],
   "source": [
    "np.unique(npa2d, return_counts=True)"
   ]
  },
  {
   "cell_type": "code",
   "execution_count": null,
   "id": "7db5825b",
   "metadata": {},
   "outputs": [],
   "source": []
  },
  {
   "cell_type": "markdown",
   "id": "c92d013c",
   "metadata": {},
   "source": [
    "## Where()"
   ]
  },
  {
   "cell_type": "code",
   "execution_count": 126,
   "id": "b89cc949",
   "metadata": {},
   "outputs": [],
   "source": [
    "arr = np.array([8,94,8,56,1,3,4,5,7])"
   ]
  },
  {
   "cell_type": "code",
   "execution_count": 127,
   "id": "10efd206",
   "metadata": {},
   "outputs": [
    {
     "data": {
      "text/plain": [
       "array([ 8, 94,  8, 56,  1,  3,  4,  5,  7])"
      ]
     },
     "execution_count": 127,
     "metadata": {},
     "output_type": "execute_result"
    }
   ],
   "source": [
    "arr"
   ]
  },
  {
   "cell_type": "code",
   "execution_count": 128,
   "id": "c0161756",
   "metadata": {},
   "outputs": [
    {
     "data": {
      "text/plain": [
       "(array([1, 3], dtype=int64),)"
      ]
     },
     "execution_count": 128,
     "metadata": {},
     "output_type": "execute_result"
    }
   ],
   "source": [
    "np.where(arr>10)"
   ]
  },
  {
   "cell_type": "code",
   "execution_count": 129,
   "id": "07e9251d",
   "metadata": {},
   "outputs": [
    {
     "data": {
      "text/plain": [
       "array([94, 56])"
      ]
     },
     "execution_count": 129,
     "metadata": {},
     "output_type": "execute_result"
    }
   ],
   "source": [
    "index = np.where(arr>10)\n",
    "arr[index]"
   ]
  },
  {
   "cell_type": "code",
   "execution_count": 130,
   "id": "645f086f",
   "metadata": {},
   "outputs": [
    {
     "data": {
      "text/plain": [
       "array([8, 8, 1, 3, 4, 5, 7])"
      ]
     },
     "execution_count": 130,
     "metadata": {},
     "output_type": "execute_result"
    }
   ],
   "source": [
    "index = np.where(arr<10)\n",
    "arr[index]"
   ]
  },
  {
   "cell_type": "code",
   "execution_count": 133,
   "id": "a8373fe6",
   "metadata": {},
   "outputs": [
    {
     "data": {
      "text/plain": [
       "array([8, 8])"
      ]
     },
     "execution_count": 133,
     "metadata": {},
     "output_type": "execute_result"
    }
   ],
   "source": [
    "index = np.where(arr==8)\n",
    "arr[index]"
   ]
  },
  {
   "cell_type": "code",
   "execution_count": 136,
   "id": "c3ce5f06",
   "metadata": {},
   "outputs": [
    {
     "data": {
      "text/plain": [
       "array([False,  True, False,  True, False, False, False, False, False])"
      ]
     },
     "execution_count": 136,
     "metadata": {},
     "output_type": "execute_result"
    }
   ],
   "source": [
    "arr>10"
   ]
  },
  {
   "cell_type": "code",
   "execution_count": 137,
   "id": "1e58f0b9",
   "metadata": {},
   "outputs": [
    {
     "data": {
      "text/plain": [
       "array([94, 56])"
      ]
     },
     "execution_count": 137,
     "metadata": {},
     "output_type": "execute_result"
    }
   ],
   "source": [
    "arr[arr>10]"
   ]
  },
  {
   "cell_type": "code",
   "execution_count": null,
   "id": "7f7f3af7",
   "metadata": {},
   "outputs": [],
   "source": []
  },
  {
   "cell_type": "code",
   "execution_count": 138,
   "id": "3a9d5f27",
   "metadata": {},
   "outputs": [
    {
     "data": {
      "text/plain": [
       "94"
      ]
     },
     "execution_count": 138,
     "metadata": {},
     "output_type": "execute_result"
    }
   ],
   "source": [
    "arr.max()"
   ]
  },
  {
   "cell_type": "code",
   "execution_count": 142,
   "id": "b8da462c",
   "metadata": {},
   "outputs": [
    {
     "data": {
      "text/plain": [
       "(1, 4)"
      ]
     },
     "execution_count": 142,
     "metadata": {},
     "output_type": "execute_result"
    }
   ],
   "source": [
    "arr.argmax(), arr.argmin()"
   ]
  },
  {
   "cell_type": "code",
   "execution_count": 143,
   "id": "b5208184",
   "metadata": {},
   "outputs": [
    {
     "data": {
      "text/plain": [
       "1"
      ]
     },
     "execution_count": 143,
     "metadata": {},
     "output_type": "execute_result"
    }
   ],
   "source": [
    "arr[arr.argmin()]"
   ]
  },
  {
   "cell_type": "code",
   "execution_count": null,
   "id": "3e1bb475",
   "metadata": {},
   "outputs": [],
   "source": []
  },
  {
   "cell_type": "markdown",
   "id": "dac182b5",
   "metadata": {},
   "source": [
    "## File read and Write"
   ]
  },
  {
   "cell_type": "code",
   "execution_count": 144,
   "id": "40f9239d",
   "metadata": {},
   "outputs": [
    {
     "data": {
      "text/plain": [
       "array([[0., 2.],\n",
       "       [3., 0.],\n",
       "       [3., 4.]])"
      ]
     },
     "execution_count": 144,
     "metadata": {},
     "output_type": "execute_result"
    }
   ],
   "source": [
    "npa2d"
   ]
  },
  {
   "cell_type": "code",
   "execution_count": 145,
   "id": "a46b785d",
   "metadata": {},
   "outputs": [],
   "source": [
    "np.savetxt('npa2dtest.csv', npa2d, delimiter=',')"
   ]
  },
  {
   "cell_type": "code",
   "execution_count": 146,
   "id": "500a484d",
   "metadata": {},
   "outputs": [
    {
     "data": {
      "text/plain": [
       "array([[0., 2.],\n",
       "       [3., 0.],\n",
       "       [3., 4.]])"
      ]
     },
     "execution_count": 146,
     "metadata": {},
     "output_type": "execute_result"
    }
   ],
   "source": [
    "np.loadtxt('npa2dtest.csv', delimiter=',')"
   ]
  },
  {
   "cell_type": "code",
   "execution_count": null,
   "id": "564810f2",
   "metadata": {},
   "outputs": [],
   "source": []
  },
  {
   "cell_type": "code",
   "execution_count": 147,
   "id": "f6543714",
   "metadata": {},
   "outputs": [],
   "source": [
    "np.save('data.npy', npa2d)"
   ]
  },
  {
   "cell_type": "code",
   "execution_count": 148,
   "id": "b8516c08",
   "metadata": {},
   "outputs": [
    {
     "data": {
      "text/plain": [
       "array([[0., 2.],\n",
       "       [3., 0.],\n",
       "       [3., 4.]])"
      ]
     },
     "execution_count": 148,
     "metadata": {},
     "output_type": "execute_result"
    }
   ],
   "source": [
    "np.load('data.npy')"
   ]
  },
  {
   "cell_type": "code",
   "execution_count": null,
   "id": "b421e3be",
   "metadata": {},
   "outputs": [],
   "source": []
  },
  {
   "cell_type": "code",
   "execution_count": 151,
   "id": "823e75c7",
   "metadata": {},
   "outputs": [
    {
     "data": {
      "text/plain": [
       "array([ 8, 94,  8, 56,  1,  3,  4,  5,  7])"
      ]
     },
     "execution_count": 151,
     "metadata": {},
     "output_type": "execute_result"
    }
   ],
   "source": [
    "arr"
   ]
  },
  {
   "cell_type": "code",
   "execution_count": 155,
   "id": "6aee372d",
   "metadata": {},
   "outputs": [],
   "source": [
    "np.savez('both.npz', arr, npa2d)"
   ]
  },
  {
   "cell_type": "code",
   "execution_count": 156,
   "id": "4134ae86",
   "metadata": {},
   "outputs": [
    {
     "data": {
      "text/plain": [
       "<numpy.lib.npyio.NpzFile at 0x1a9c9180490>"
      ]
     },
     "execution_count": 156,
     "metadata": {},
     "output_type": "execute_result"
    }
   ],
   "source": [
    "np.load('both.npz')"
   ]
  },
  {
   "cell_type": "code",
   "execution_count": 157,
   "id": "63f7ca31",
   "metadata": {},
   "outputs": [
    {
     "data": {
      "text/plain": [
       "['arr_0', 'arr_1']"
      ]
     },
     "execution_count": 157,
     "metadata": {},
     "output_type": "execute_result"
    }
   ],
   "source": [
    "np.load('both.npz').files"
   ]
  },
  {
   "cell_type": "code",
   "execution_count": 158,
   "id": "7fb930f3",
   "metadata": {},
   "outputs": [],
   "source": [
    "d = np.load('both.npz')"
   ]
  },
  {
   "cell_type": "code",
   "execution_count": 159,
   "id": "6851e672",
   "metadata": {},
   "outputs": [
    {
     "data": {
      "text/plain": [
       "['arr_0', 'arr_1']"
      ]
     },
     "execution_count": 159,
     "metadata": {},
     "output_type": "execute_result"
    }
   ],
   "source": [
    "d.files"
   ]
  },
  {
   "cell_type": "code",
   "execution_count": 161,
   "id": "d5e4af48",
   "metadata": {},
   "outputs": [
    {
     "data": {
      "text/plain": [
       "array([ 8, 94,  8, 56,  1,  3,  4,  5,  7])"
      ]
     },
     "execution_count": 161,
     "metadata": {},
     "output_type": "execute_result"
    }
   ],
   "source": [
    "d[d.files[0]]"
   ]
  },
  {
   "cell_type": "code",
   "execution_count": null,
   "id": "89430f8c",
   "metadata": {},
   "outputs": [],
   "source": []
  },
  {
   "cell_type": "markdown",
   "id": "f719fcd4",
   "metadata": {},
   "source": [
    "## Comcatenate and Sorting"
   ]
  },
  {
   "cell_type": "code",
   "execution_count": 162,
   "id": "adfc6f57",
   "metadata": {},
   "outputs": [
    {
     "data": {
      "text/plain": [
       "array([[0., 2.],\n",
       "       [3., 0.],\n",
       "       [3., 4.]])"
      ]
     },
     "execution_count": 162,
     "metadata": {},
     "output_type": "execute_result"
    }
   ],
   "source": [
    "npa2d"
   ]
  },
  {
   "cell_type": "code",
   "execution_count": 166,
   "id": "84bb754f",
   "metadata": {},
   "outputs": [
    {
     "data": {
      "text/plain": [
       "array([[0., 2.],\n",
       "       [3., 0.],\n",
       "       [3., 4.],\n",
       "       [0., 2.],\n",
       "       [3., 0.],\n",
       "       [3., 4.]])"
      ]
     },
     "execution_count": 166,
     "metadata": {},
     "output_type": "execute_result"
    }
   ],
   "source": [
    "np.concatenate([npa2d, npa2d], axis=0)"
   ]
  },
  {
   "cell_type": "code",
   "execution_count": 167,
   "id": "f4b943f1",
   "metadata": {},
   "outputs": [
    {
     "data": {
      "text/plain": [
       "array([[0., 2., 0., 2.],\n",
       "       [3., 0., 3., 0.],\n",
       "       [3., 4., 3., 4.]])"
      ]
     },
     "execution_count": 167,
     "metadata": {},
     "output_type": "execute_result"
    }
   ],
   "source": [
    "np.concatenate([npa2d, npa2d], axis=1)"
   ]
  },
  {
   "cell_type": "code",
   "execution_count": 171,
   "id": "53d0ea9f",
   "metadata": {},
   "outputs": [
    {
     "data": {
      "text/plain": [
       "((9,), (3, 2))"
      ]
     },
     "execution_count": 171,
     "metadata": {},
     "output_type": "execute_result"
    }
   ],
   "source": [
    "arr.shape, npa2d.shape"
   ]
  },
  {
   "cell_type": "code",
   "execution_count": null,
   "id": "c1fe8ae9",
   "metadata": {},
   "outputs": [],
   "source": []
  },
  {
   "cell_type": "code",
   "execution_count": 172,
   "id": "bbcbb732",
   "metadata": {},
   "outputs": [
    {
     "data": {
      "text/plain": [
       "array([[0., 2.],\n",
       "       [3., 0.],\n",
       "       [3., 4.],\n",
       "       [0., 2.],\n",
       "       [3., 0.],\n",
       "       [3., 4.]])"
      ]
     },
     "execution_count": 172,
     "metadata": {},
     "output_type": "execute_result"
    }
   ],
   "source": [
    "np.vstack([npa2d, npa2d])"
   ]
  },
  {
   "cell_type": "code",
   "execution_count": 174,
   "id": "687a691c",
   "metadata": {},
   "outputs": [],
   "source": [
    "npa = np.hstack([npa2d, npa2d])"
   ]
  },
  {
   "cell_type": "code",
   "execution_count": null,
   "id": "14a12eec",
   "metadata": {},
   "outputs": [],
   "source": []
  },
  {
   "cell_type": "code",
   "execution_count": 176,
   "id": "9984555e",
   "metadata": {},
   "outputs": [],
   "source": [
    "npa.sort()"
   ]
  },
  {
   "cell_type": "code",
   "execution_count": 177,
   "id": "7791a053",
   "metadata": {},
   "outputs": [
    {
     "data": {
      "text/plain": [
       "array([[0., 0., 2., 2.],\n",
       "       [0., 0., 3., 3.],\n",
       "       [3., 3., 4., 4.]])"
      ]
     },
     "execution_count": 177,
     "metadata": {},
     "output_type": "execute_result"
    }
   ],
   "source": [
    "npa"
   ]
  },
  {
   "cell_type": "code",
   "execution_count": null,
   "id": "97d500e7",
   "metadata": {},
   "outputs": [],
   "source": []
  },
  {
   "cell_type": "markdown",
   "id": "fdb0541e",
   "metadata": {},
   "source": [
    "## Working with Dates"
   ]
  },
  {
   "cell_type": "code",
   "execution_count": 178,
   "id": "7d748ddb",
   "metadata": {},
   "outputs": [],
   "source": [
    "d = np.datetime64('2020-12-01 23:34:23')"
   ]
  },
  {
   "cell_type": "code",
   "execution_count": 179,
   "id": "4f411feb",
   "metadata": {},
   "outputs": [
    {
     "data": {
      "text/plain": [
       "numpy.datetime64('2020-12-01T23:34:23')"
      ]
     },
     "execution_count": 179,
     "metadata": {},
     "output_type": "execute_result"
    }
   ],
   "source": [
    "d"
   ]
  },
  {
   "cell_type": "code",
   "execution_count": 180,
   "id": "3549647c",
   "metadata": {},
   "outputs": [
    {
     "data": {
      "text/plain": [
       "numpy.datetime64('2020-12-01T23:34:33')"
      ]
     },
     "execution_count": 180,
     "metadata": {},
     "output_type": "execute_result"
    }
   ],
   "source": [
    "d + 10"
   ]
  },
  {
   "cell_type": "code",
   "execution_count": null,
   "id": "78c8517e",
   "metadata": {},
   "outputs": [],
   "source": []
  },
  {
   "cell_type": "code",
   "execution_count": 181,
   "id": "6245c362",
   "metadata": {},
   "outputs": [],
   "source": [
    "oneday = np.timedelta64(1, 'D')"
   ]
  },
  {
   "cell_type": "code",
   "execution_count": 182,
   "id": "eef46402",
   "metadata": {},
   "outputs": [
    {
     "data": {
      "text/plain": [
       "numpy.timedelta64(1,'D')"
      ]
     },
     "execution_count": 182,
     "metadata": {},
     "output_type": "execute_result"
    }
   ],
   "source": [
    "oneday"
   ]
  },
  {
   "cell_type": "code",
   "execution_count": 183,
   "id": "c56da418",
   "metadata": {},
   "outputs": [
    {
     "data": {
      "text/plain": [
       "numpy.datetime64('2020-12-02T23:34:23')"
      ]
     },
     "execution_count": 183,
     "metadata": {},
     "output_type": "execute_result"
    }
   ],
   "source": [
    "d + oneday"
   ]
  },
  {
   "cell_type": "code",
   "execution_count": null,
   "id": "f6e76d25",
   "metadata": {},
   "outputs": [],
   "source": []
  },
  {
   "cell_type": "code",
   "execution_count": 184,
   "id": "393f071e",
   "metadata": {},
   "outputs": [],
   "source": [
    "oneminute = np.timedelta64(1, 'm')"
   ]
  },
  {
   "cell_type": "code",
   "execution_count": 185,
   "id": "8c967b87",
   "metadata": {},
   "outputs": [
    {
     "data": {
      "text/plain": [
       "numpy.datetime64('2020-12-01T23:35:23')"
      ]
     },
     "execution_count": 185,
     "metadata": {},
     "output_type": "execute_result"
    }
   ],
   "source": [
    "d + oneminute"
   ]
  },
  {
   "cell_type": "code",
   "execution_count": 186,
   "id": "26c13621",
   "metadata": {},
   "outputs": [],
   "source": [
    "oneweek = np.timedelta64(1, 'W')"
   ]
  },
  {
   "cell_type": "code",
   "execution_count": 187,
   "id": "d2be6fcb",
   "metadata": {},
   "outputs": [
    {
     "data": {
      "text/plain": [
       "numpy.datetime64('2020-12-08T23:34:23')"
      ]
     },
     "execution_count": 187,
     "metadata": {},
     "output_type": "execute_result"
    }
   ],
   "source": [
    "d + oneweek"
   ]
  },
  {
   "cell_type": "code",
   "execution_count": null,
   "id": "5275713a",
   "metadata": {},
   "outputs": [],
   "source": [
    "np.append()"
   ]
  }
 ],
 "metadata": {
  "kernelspec": {
   "display_name": "Python 3 (ipykernel)",
   "language": "python",
   "name": "python3"
  },
  "language_info": {
   "codemirror_mode": {
    "name": "ipython",
    "version": 3
   },
   "file_extension": ".py",
   "mimetype": "text/x-python",
   "name": "python",
   "nbconvert_exporter": "python",
   "pygments_lexer": "ipython3",
   "version": "3.10.0"
  }
 },
 "nbformat": 4,
 "nbformat_minor": 5
}
